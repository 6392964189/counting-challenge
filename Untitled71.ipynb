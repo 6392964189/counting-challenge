{
  "nbformat": 4,
  "nbformat_minor": 0,
  "metadata": {
    "colab": {
      "provenance": [],
      "toc_visible": true
    },
    "kernelspec": {
      "name": "python3",
      "display_name": "Python 3"
    },
    "language_info": {
      "name": "python"
    }
  },
  "cells": [
    {
      "cell_type": "code",
      "source": [
        "import tensorflow as tf\n",
        "from tensorflow.keras.models import Sequential\n",
        "from tensorflow.keras.layers import Conv2D, MaxPooling2D, Flatten, Dense\n",
        "\n",
        "def create_simple_model():\n",
        "    model = Sequential([\n",
        "        Conv2D(32, (3, 3), activation='relu', input_shape=(150, 150, 3)),\n",
        "        MaxPooling2D((2, 2)),\n",
        "        Flatten(),\n",
        "        Dense(64, activation='relu'),\n",
        "        Dense(1, activation='sigmoid')\n",
        "    ])\n",
        "    model.compile(optimizer='adam', loss='binary_crossentropy', metrics=['accuracy'])\n",
        "    return model\n",
        "\n",
        "# Create and save the model\n",
        "model = create_simple_model()\n",
        "model.save('/content/simple_model.h5')\n"
      ],
      "metadata": {
        "id": "JDwjkspNnIyq"
      },
      "execution_count": 38,
      "outputs": []
    },
    {
      "cell_type": "code",
      "execution_count": 39,
      "metadata": {
        "id": "X-3M4o92lo7g"
      },
      "outputs": [],
      "source": [
        "import cv2\n",
        "import os\n",
        "import tensorflow as tf\n",
        "import numpy as np\n"
      ]
    },
    {
      "cell_type": "code",
      "source": [
        "model = tf.keras.models.load_model('/content/simple_model.h5')"
      ],
      "metadata": {
        "id": "eaOSLm2bninW"
      },
      "execution_count": 40,
      "outputs": []
    },
    {
      "cell_type": "code",
      "source": [
        "def process_non_ai(image_path, output_path):\n",
        "    \"\"\"Process image using Non-AI techniques (OpenCV)\"\"\"\n",
        "    image = cv2.imread(image_path)\n",
        "    gray = cv2.cvtColor(image, cv2.COLOR_BGR2GRAY)\n",
        "    blurred = cv2.GaussianBlur(gray, (5, 5), 0)\n",
        "    _, binary = cv2.threshold(blurred, 127, 255, cv2.THRESH_BINARY_INV)\n",
        "    contours, _ = cv2.findContours(binary, cv2.RETR_EXTERNAL, cv2.CHAIN_APPROX_SIMPLE)\n",
        "    cv2.drawContours(image, contours, -1, (0, 255, 0), 2)\n",
        "    cv2.imwrite(output_path, image)\n",
        "    print(f'Non-AI Processed {image_path}, found {len(contours)} objects.')"
      ],
      "metadata": {
        "id": "jtGqEj5gnlGL"
      },
      "execution_count": 41,
      "outputs": []
    },
    {
      "cell_type": "code",
      "source": [
        "def process_ai(image_path, output_path):\n",
        "    \"\"\"Process image using AI techniques (TensorFlow model)\"\"\"\n",
        "    image = cv2.imread(image_path)\n",
        "    image_resized = cv2.resize(image, (150, 150))\n",
        "    image_expanded = np.expand_dims(image_resized, axis=0)\n",
        "    prediction = model.predict(image_expanded)\n",
        "    label = 'Object detected' if prediction[0] > 0.5 else 'No object detected'\n",
        "    cv2.putText(image, label, (10, 30), cv2.FONT_HERSHEY_SIMPLEX, 1, (0, 255, 0), 2)\n",
        "    cv2.imwrite(output_path, image)\n",
        "    print(f'AI Processed {image_path}, result: {label}')"
      ],
      "metadata": {
        "id": "b1RCQFuvnsyu"
      },
      "execution_count": 42,
      "outputs": []
    },
    {
      "cell_type": "code",
      "source": [
        "def process_images(image_dir, output_dir_non_ai, output_dir_ai):\n",
        "    \"\"\"Process all images in the specified directory using both AI and Non-AI techniques\"\"\"\n",
        "    os.makedirs(output_dir_non_ai, exist_ok=True)\n",
        "    os.makedirs(output_dir_ai, exist_ok=True)\n",
        "\n",
        "    for filename in os.listdir(image_dir):\n",
        "        if filename.endswith(('.png', '.jpg', '.jpeg')):\n",
        "            image_path = os.path.join(image_dir, filename)\n",
        "            output_path_non_ai = os.path.join(output_dir_non_ai, 'processed_' + filename)\n",
        "            output_path_ai = os.path.join(output_dir_ai, 'processed_' + filename)\n",
        "            process_non_ai(image_path, output_path_non_ai)\n",
        "            process_ai(image_path, output_path_ai)"
      ],
      "metadata": {
        "id": "wuQEc9e6nzLW"
      },
      "execution_count": 43,
      "outputs": []
    },
    {
      "cell_type": "code",
      "source": [
        "image_dirs = {\n",
        "    'both_screw_bolt': '/ScrewAndBolt_20240713-20240730T115257Z-001.zip',\n",
        "    'only_screw': '/Screws_2024_07_15-20240730T115327Z-001.zip'\n",
        "}"
      ],
      "metadata": {
        "id": "OgvRZpaboTAo"
      },
      "execution_count": 44,
      "outputs": []
    },
    {
      "cell_type": "code",
      "source": [
        "output_dirs_non_ai = {\n",
        "    'both_screw_bolt': '/ScrewAndBolt_20240713-20240730T115257Z-001.zip',\n",
        "    'only_screw': '/Screws_2024_07_15-20240730T115327Z-001.zip'\n",
        "}"
      ],
      "metadata": {
        "id": "evC4uukoomdP"
      },
      "execution_count": 45,
      "outputs": []
    },
    {
      "cell_type": "code",
      "source": [
        "output_dirs_ai = {\n",
        "    'both_screw_bolt': '/ScrewAndBolt_20240713-20240730T115257Z-001.zip',\n",
        "    'only_screw': '/Screws_2024_07_15-20240730T115327Z-001.zip'\n",
        "}\n"
      ],
      "metadata": {
        "id": "boKzd51yo72E"
      },
      "execution_count": 46,
      "outputs": []
    },
    {
      "cell_type": "code",
      "source": [
        "for key in image_dirs:\n",
        "    process_images(image_dirs[key], output_dirs_non_ai[key], output_dirs_ai[key])"
      ],
      "metadata": {
        "colab": {
          "base_uri": "https://localhost:8080/",
          "height": 319
        },
        "id": "tl7fUyEcpLNy",
        "outputId": "c3855344-f560-4812-9bb5-dada2f20bca4"
      },
      "execution_count": null,
      "outputs": [
        {
          "output_type": "error",
          "ename": "FileExistsError",
          "evalue": "[Errno 17] File exists: '/ScrewAndBolt_20240713-20240730T115257Z-001.zip'",
          "traceback": [
            "\u001b[0;31m---------------------------------------------------------------------------\u001b[0m",
            "\u001b[0;31mFileExistsError\u001b[0m                           Traceback (most recent call last)",
            "\u001b[0;32m<ipython-input-15-e3d8c5b428d9>\u001b[0m in \u001b[0;36m<cell line: 1>\u001b[0;34m()\u001b[0m\n\u001b[1;32m      1\u001b[0m \u001b[0;32mfor\u001b[0m \u001b[0mkey\u001b[0m \u001b[0;32min\u001b[0m \u001b[0mimage_dirs\u001b[0m\u001b[0;34m:\u001b[0m\u001b[0;34m\u001b[0m\u001b[0;34m\u001b[0m\u001b[0m\n\u001b[0;32m----> 2\u001b[0;31m     \u001b[0mprocess_images\u001b[0m\u001b[0;34m(\u001b[0m\u001b[0mimage_dirs\u001b[0m\u001b[0;34m[\u001b[0m\u001b[0mkey\u001b[0m\u001b[0;34m]\u001b[0m\u001b[0;34m,\u001b[0m \u001b[0moutput_dirs_non_ai\u001b[0m\u001b[0;34m[\u001b[0m\u001b[0mkey\u001b[0m\u001b[0;34m]\u001b[0m\u001b[0;34m,\u001b[0m \u001b[0moutput_dirs_ai\u001b[0m\u001b[0;34m[\u001b[0m\u001b[0mkey\u001b[0m\u001b[0;34m]\u001b[0m\u001b[0;34m)\u001b[0m\u001b[0;34m\u001b[0m\u001b[0;34m\u001b[0m\u001b[0m\n\u001b[0m",
            "\u001b[0;32m<ipython-input-11-ea6edc197ceb>\u001b[0m in \u001b[0;36mprocess_images\u001b[0;34m(image_dir, output_dir_non_ai, output_dir_ai)\u001b[0m\n\u001b[1;32m      1\u001b[0m \u001b[0;32mdef\u001b[0m \u001b[0mprocess_images\u001b[0m\u001b[0;34m(\u001b[0m\u001b[0mimage_dir\u001b[0m\u001b[0;34m,\u001b[0m \u001b[0moutput_dir_non_ai\u001b[0m\u001b[0;34m,\u001b[0m \u001b[0moutput_dir_ai\u001b[0m\u001b[0;34m)\u001b[0m\u001b[0;34m:\u001b[0m\u001b[0;34m\u001b[0m\u001b[0;34m\u001b[0m\u001b[0m\n\u001b[1;32m      2\u001b[0m     \u001b[0;34m\"\"\"Process all images in the specified directory using both AI and Non-AI techniques\"\"\"\u001b[0m\u001b[0;34m\u001b[0m\u001b[0;34m\u001b[0m\u001b[0m\n\u001b[0;32m----> 3\u001b[0;31m     \u001b[0mos\u001b[0m\u001b[0;34m.\u001b[0m\u001b[0mmakedirs\u001b[0m\u001b[0;34m(\u001b[0m\u001b[0moutput_dir_non_ai\u001b[0m\u001b[0;34m,\u001b[0m \u001b[0mexist_ok\u001b[0m\u001b[0;34m=\u001b[0m\u001b[0;32mTrue\u001b[0m\u001b[0;34m)\u001b[0m\u001b[0;34m\u001b[0m\u001b[0;34m\u001b[0m\u001b[0m\n\u001b[0m\u001b[1;32m      4\u001b[0m     \u001b[0mos\u001b[0m\u001b[0;34m.\u001b[0m\u001b[0mmakedirs\u001b[0m\u001b[0;34m(\u001b[0m\u001b[0moutput_dir_ai\u001b[0m\u001b[0;34m,\u001b[0m \u001b[0mexist_ok\u001b[0m\u001b[0;34m=\u001b[0m\u001b[0;32mTrue\u001b[0m\u001b[0;34m)\u001b[0m\u001b[0;34m\u001b[0m\u001b[0;34m\u001b[0m\u001b[0m\n\u001b[1;32m      5\u001b[0m \u001b[0;34m\u001b[0m\u001b[0m\n",
            "\u001b[0;32m/usr/lib/python3.10/os.py\u001b[0m in \u001b[0;36mmakedirs\u001b[0;34m(name, mode, exist_ok)\u001b[0m\n\u001b[1;32m    223\u001b[0m             \u001b[0;32mreturn\u001b[0m\u001b[0;34m\u001b[0m\u001b[0;34m\u001b[0m\u001b[0m\n\u001b[1;32m    224\u001b[0m     \u001b[0;32mtry\u001b[0m\u001b[0;34m:\u001b[0m\u001b[0;34m\u001b[0m\u001b[0;34m\u001b[0m\u001b[0m\n\u001b[0;32m--> 225\u001b[0;31m         \u001b[0mmkdir\u001b[0m\u001b[0;34m(\u001b[0m\u001b[0mname\u001b[0m\u001b[0;34m,\u001b[0m \u001b[0mmode\u001b[0m\u001b[0;34m)\u001b[0m\u001b[0;34m\u001b[0m\u001b[0;34m\u001b[0m\u001b[0m\n\u001b[0m\u001b[1;32m    226\u001b[0m     \u001b[0;32mexcept\u001b[0m \u001b[0mOSError\u001b[0m\u001b[0;34m:\u001b[0m\u001b[0;34m\u001b[0m\u001b[0;34m\u001b[0m\u001b[0m\n\u001b[1;32m    227\u001b[0m         \u001b[0;31m# Cannot rely on checking for EEXIST, since the operating system\u001b[0m\u001b[0;34m\u001b[0m\u001b[0;34m\u001b[0m\u001b[0m\n",
            "\u001b[0;31mFileExistsError\u001b[0m: [Errno 17] File exists: '/ScrewAndBolt_20240713-20240730T115257Z-001.zip'"
          ]
        }
      ]
    },
    {
      "cell_type": "code",
      "source": [
        "from google.colab import files\n",
        "uploaded = files.upload()\n"
      ],
      "metadata": {
        "colab": {
          "base_uri": "https://localhost:8080/",
          "height": 108
        },
        "id": "4EjtI_rnrIRM",
        "outputId": "84749326-53cc-41db-e676-0d6ce91db0fb"
      },
      "execution_count": 20,
      "outputs": [
        {
          "output_type": "display_data",
          "data": {
            "text/plain": [
              "<IPython.core.display.HTML object>"
            ],
            "text/html": [
              "\n",
              "     <input type=\"file\" id=\"files-76250851-fab0-43ea-b67f-3df0a72a68b1\" name=\"files[]\" multiple disabled\n",
              "        style=\"border:none\" />\n",
              "     <output id=\"result-76250851-fab0-43ea-b67f-3df0a72a68b1\">\n",
              "      Upload widget is only available when the cell has been executed in the\n",
              "      current browser session. Please rerun this cell to enable.\n",
              "      </output>\n",
              "      <script>// Copyright 2017 Google LLC\n",
              "//\n",
              "// Licensed under the Apache License, Version 2.0 (the \"License\");\n",
              "// you may not use this file except in compliance with the License.\n",
              "// You may obtain a copy of the License at\n",
              "//\n",
              "//      http://www.apache.org/licenses/LICENSE-2.0\n",
              "//\n",
              "// Unless required by applicable law or agreed to in writing, software\n",
              "// distributed under the License is distributed on an \"AS IS\" BASIS,\n",
              "// WITHOUT WARRANTIES OR CONDITIONS OF ANY KIND, either express or implied.\n",
              "// See the License for the specific language governing permissions and\n",
              "// limitations under the License.\n",
              "\n",
              "/**\n",
              " * @fileoverview Helpers for google.colab Python module.\n",
              " */\n",
              "(function(scope) {\n",
              "function span(text, styleAttributes = {}) {\n",
              "  const element = document.createElement('span');\n",
              "  element.textContent = text;\n",
              "  for (const key of Object.keys(styleAttributes)) {\n",
              "    element.style[key] = styleAttributes[key];\n",
              "  }\n",
              "  return element;\n",
              "}\n",
              "\n",
              "// Max number of bytes which will be uploaded at a time.\n",
              "const MAX_PAYLOAD_SIZE = 100 * 1024;\n",
              "\n",
              "function _uploadFiles(inputId, outputId) {\n",
              "  const steps = uploadFilesStep(inputId, outputId);\n",
              "  const outputElement = document.getElementById(outputId);\n",
              "  // Cache steps on the outputElement to make it available for the next call\n",
              "  // to uploadFilesContinue from Python.\n",
              "  outputElement.steps = steps;\n",
              "\n",
              "  return _uploadFilesContinue(outputId);\n",
              "}\n",
              "\n",
              "// This is roughly an async generator (not supported in the browser yet),\n",
              "// where there are multiple asynchronous steps and the Python side is going\n",
              "// to poll for completion of each step.\n",
              "// This uses a Promise to block the python side on completion of each step,\n",
              "// then passes the result of the previous step as the input to the next step.\n",
              "function _uploadFilesContinue(outputId) {\n",
              "  const outputElement = document.getElementById(outputId);\n",
              "  const steps = outputElement.steps;\n",
              "\n",
              "  const next = steps.next(outputElement.lastPromiseValue);\n",
              "  return Promise.resolve(next.value.promise).then((value) => {\n",
              "    // Cache the last promise value to make it available to the next\n",
              "    // step of the generator.\n",
              "    outputElement.lastPromiseValue = value;\n",
              "    return next.value.response;\n",
              "  });\n",
              "}\n",
              "\n",
              "/**\n",
              " * Generator function which is called between each async step of the upload\n",
              " * process.\n",
              " * @param {string} inputId Element ID of the input file picker element.\n",
              " * @param {string} outputId Element ID of the output display.\n",
              " * @return {!Iterable<!Object>} Iterable of next steps.\n",
              " */\n",
              "function* uploadFilesStep(inputId, outputId) {\n",
              "  const inputElement = document.getElementById(inputId);\n",
              "  inputElement.disabled = false;\n",
              "\n",
              "  const outputElement = document.getElementById(outputId);\n",
              "  outputElement.innerHTML = '';\n",
              "\n",
              "  const pickedPromise = new Promise((resolve) => {\n",
              "    inputElement.addEventListener('change', (e) => {\n",
              "      resolve(e.target.files);\n",
              "    });\n",
              "  });\n",
              "\n",
              "  const cancel = document.createElement('button');\n",
              "  inputElement.parentElement.appendChild(cancel);\n",
              "  cancel.textContent = 'Cancel upload';\n",
              "  const cancelPromise = new Promise((resolve) => {\n",
              "    cancel.onclick = () => {\n",
              "      resolve(null);\n",
              "    };\n",
              "  });\n",
              "\n",
              "  // Wait for the user to pick the files.\n",
              "  const files = yield {\n",
              "    promise: Promise.race([pickedPromise, cancelPromise]),\n",
              "    response: {\n",
              "      action: 'starting',\n",
              "    }\n",
              "  };\n",
              "\n",
              "  cancel.remove();\n",
              "\n",
              "  // Disable the input element since further picks are not allowed.\n",
              "  inputElement.disabled = true;\n",
              "\n",
              "  if (!files) {\n",
              "    return {\n",
              "      response: {\n",
              "        action: 'complete',\n",
              "      }\n",
              "    };\n",
              "  }\n",
              "\n",
              "  for (const file of files) {\n",
              "    const li = document.createElement('li');\n",
              "    li.append(span(file.name, {fontWeight: 'bold'}));\n",
              "    li.append(span(\n",
              "        `(${file.type || 'n/a'}) - ${file.size} bytes, ` +\n",
              "        `last modified: ${\n",
              "            file.lastModifiedDate ? file.lastModifiedDate.toLocaleDateString() :\n",
              "                                    'n/a'} - `));\n",
              "    const percent = span('0% done');\n",
              "    li.appendChild(percent);\n",
              "\n",
              "    outputElement.appendChild(li);\n",
              "\n",
              "    const fileDataPromise = new Promise((resolve) => {\n",
              "      const reader = new FileReader();\n",
              "      reader.onload = (e) => {\n",
              "        resolve(e.target.result);\n",
              "      };\n",
              "      reader.readAsArrayBuffer(file);\n",
              "    });\n",
              "    // Wait for the data to be ready.\n",
              "    let fileData = yield {\n",
              "      promise: fileDataPromise,\n",
              "      response: {\n",
              "        action: 'continue',\n",
              "      }\n",
              "    };\n",
              "\n",
              "    // Use a chunked sending to avoid message size limits. See b/62115660.\n",
              "    let position = 0;\n",
              "    do {\n",
              "      const length = Math.min(fileData.byteLength - position, MAX_PAYLOAD_SIZE);\n",
              "      const chunk = new Uint8Array(fileData, position, length);\n",
              "      position += length;\n",
              "\n",
              "      const base64 = btoa(String.fromCharCode.apply(null, chunk));\n",
              "      yield {\n",
              "        response: {\n",
              "          action: 'append',\n",
              "          file: file.name,\n",
              "          data: base64,\n",
              "        },\n",
              "      };\n",
              "\n",
              "      let percentDone = fileData.byteLength === 0 ?\n",
              "          100 :\n",
              "          Math.round((position / fileData.byteLength) * 100);\n",
              "      percent.textContent = `${percentDone}% done`;\n",
              "\n",
              "    } while (position < fileData.byteLength);\n",
              "  }\n",
              "\n",
              "  // All done.\n",
              "  yield {\n",
              "    response: {\n",
              "      action: 'complete',\n",
              "    }\n",
              "  };\n",
              "}\n",
              "\n",
              "scope.google = scope.google || {};\n",
              "scope.google.colab = scope.google.colab || {};\n",
              "scope.google.colab._files = {\n",
              "  _uploadFiles,\n",
              "  _uploadFilesContinue,\n",
              "};\n",
              "})(self);\n",
              "</script> "
            ]
          },
          "metadata": {}
        },
        {
          "output_type": "stream",
          "name": "stdout",
          "text": [
            "Saving ScrewAndBolt_20240713-20240730T115257Z-001.zip to ScrewAndBolt_20240713-20240730T115257Z-001 (1).zip\n",
            "Saving Screws_2024_07_15-20240730T115327Z-001.zip to Screws_2024_07_15-20240730T115327Z-001 (1).zip\n"
          ]
        }
      ]
    },
    {
      "cell_type": "code",
      "source": [
        "import os\n",
        "\n",
        "# List files in the /content directory\n",
        "uploaded_files = os.listdir('/content')\n",
        "print(uploaded_files)\n"
      ],
      "metadata": {
        "colab": {
          "base_uri": "https://localhost:8080/"
        },
        "id": "y3qvL6GLuJDU",
        "outputId": "0350dc55-3ed2-4df1-df93-9e6991e44798"
      },
      "execution_count": 21,
      "outputs": [
        {
          "output_type": "stream",
          "name": "stdout",
          "text": [
            "['.config', 'Screws_2024_07_15-20240730T115327Z-001 (1).zip', 'ScrewAndBolt_20240713-20240730T115257Z-001.zip', 'both_screw_bolt', 'Screws_2024_07_15-20240730T115327Z-001.zip', 'simple_model.h5', 'ScrewAndBolt_20240713-20240730T115257Z-001 (1).zip', 'sample_data']\n"
          ]
        }
      ]
    },
    {
      "cell_type": "code",
      "source": [
        "zip_files = {\n",
        "    'both_screw_bolt': '/content/ScrewAndBolt_20240713-20240730T115257Z-001 (1).zip',\n",
        "    'only_screw': '/content/Screws_2024_07_15-20240730T115327Z-001 (1).zip'\n",
        "}\n"
      ],
      "metadata": {
        "id": "cdu29mp6vqQk"
      },
      "execution_count": 26,
      "outputs": []
    },
    {
      "cell_type": "code",
      "source": [
        "\n",
        "zip_files = {\n",
        "    'both_screw_bolt': '/content/your_actual_filename_for_screw_and_bolt.zip',\n",
        "    'only_screw': '/content/your_actual_filename_for_screws.zip'\n",
        "}\n",
        "\n",
        "zip_files = {\n",
        "    'both_screw_bolt': '/content/your_actual_filename_for_screw_and_bolt.zip',\n",
        "    'only_screw': '/content/your_actual_filename_for_screws.zip'\n",
        "}\n"
      ],
      "metadata": {
        "id": "nUVXaKxsuRVs"
      },
      "execution_count": 25,
      "outputs": []
    },
    {
      "cell_type": "code",
      "source": [
        "import zipfile\n",
        "import os\n",
        "\n",
        "# Define updated paths to your zip files and output directories\n",
        "zip_files = {\n",
        "    'both_screw_bolt': '/content/ScrewAndBolt_20240713-20240730T115257Z-001 (1).zip',\n",
        "    'only_screw': '/content/Screws_2024_07_15-20240730T115327Z-001 (1).zip'\n",
        "}\n",
        "\n",
        "output_dirs = {\n",
        "    'both_screw_bolt': '/content/both_screw_bolt',\n",
        "    'only_screw': '/content/only_screw'\n",
        "}\n",
        "\n",
        "# Unzip the files\n",
        "for key in zip_files:\n",
        "    if not os.path.exists(output_dirs[key]):\n",
        "        os.makedirs(output_dirs[key])\n",
        "    with zipfile.ZipFile(zip_files[key], 'r') as zip_ref:\n",
        "        zip_ref.extractall(output_dirs[key])\n",
        "    print(f'Extracted {zip_files[key]} to {output_dirs[key]}')\n"
      ],
      "metadata": {
        "colab": {
          "base_uri": "https://localhost:8080/"
        },
        "id": "SR1FNjCNvzw7",
        "outputId": "40337590-bd66-462b-e3b9-96c2c77470ac"
      },
      "execution_count": 27,
      "outputs": [
        {
          "output_type": "stream",
          "name": "stdout",
          "text": [
            "Extracted /content/ScrewAndBolt_20240713-20240730T115257Z-001 (1).zip to /content/both_screw_bolt\n",
            "Extracted /content/Screws_2024_07_15-20240730T115327Z-001 (1).zip to /content/only_screw\n"
          ]
        }
      ]
    },
    {
      "cell_type": "code",
      "source": [
        "print(\"Contents of both_screw_bolt directory:\")\n",
        "print(os.listdir('/content/both_screw_bolt'))\n",
        "\n",
        "print(\"Contents of only_screw directory:\")\n",
        "print(os.listdir('/content/only_screw'))\n"
      ],
      "metadata": {
        "colab": {
          "base_uri": "https://localhost:8080/"
        },
        "id": "irxbtvTKv4xD",
        "outputId": "e62d8a73-a994-4997-e9d6-7a973e26fc88"
      },
      "execution_count": 28,
      "outputs": [
        {
          "output_type": "stream",
          "name": "stdout",
          "text": [
            "Contents of both_screw_bolt directory:\n",
            "['ScrewAndBolt_20240713']\n",
            "Contents of only_screw directory:\n",
            "['Screws_2024_07_15']\n"
          ]
        }
      ]
    },
    {
      "cell_type": "code",
      "source": [
        "import shutil\n",
        "\n",
        "# Define the paths to the subdirectories\n",
        "subdirs = {\n",
        "    'both_screw_bolt': '/content/both_screw_bolt/ScrewAndBolt_20240713',\n",
        "    'only_screw': '/content/only_screw/Screws_2024_07_15'\n",
        "}\n",
        "\n",
        "# Define the target directories to move files to\n",
        "target_dirs = {\n",
        "    'both_screw_bolt': '/content/both_screw_bolt',\n",
        "    'only_screw': '/content/only_screw'\n",
        "}\n",
        "\n",
        "# Move files from subdirectories to target directories\n",
        "for key in subdirs:\n",
        "    for filename in os.listdir(subdirs[key]):\n",
        "        source = os.path.join(subdirs[key], filename)\n",
        "        destination = os.path.join(target_dirs[key], filename)\n",
        "        shutil.move(source, destination)\n",
        "\n",
        "    # Optionally remove the now-empty subdirectories\n",
        "    os.rmdir(subdirs[key])\n",
        "\n",
        "# Verify the contents\n",
        "print(\"Contents of both_screw_bolt directory:\")\n",
        "print(os.listdir('/content/both_screw_bolt'))\n",
        "\n",
        "print(\"Contents of only_screw directory:\")\n",
        "print(os.listdir('/content/only_screw'))\n"
      ],
      "metadata": {
        "colab": {
          "base_uri": "https://localhost:8080/"
        },
        "id": "hycN3AjYwKDR",
        "outputId": "84916118-809c-483b-ba30-b5115d0e9b52"
      },
      "execution_count": 29,
      "outputs": [
        {
          "output_type": "stream",
          "name": "stdout",
          "text": [
            "Contents of both_screw_bolt directory:\n",
            "['20240713_194621.jpg', '20240713_192951.jpg', '20240713_194316.jpg', '20240713_194206.jpg', '20240713_193839.jpg', '20240713_194256.jpg', '20240713_194200.jpg', '20240713_194630.jpg', '20240713_193650.jpg', '20240713_193907.jpg', '20240713_194606.jpg', '20240713_194232.jpg', '20240713_194541.jpg', '20240713_193135.jpg', '20240713_194551.jpg', '20240713_194215.jpg', '20240713_193659.jpg', '20240713_193831.jpg']\n",
            "Contents of only_screw directory:\n",
            "['img3.jpg', 'img6.jpg', 'img5.jpg', 'img2.jpg', 'img4.jpg', 'img1_43_nosy.jpg', 'img1.jpg']\n"
          ]
        }
      ]
    },
    {
      "cell_type": "code",
      "source": [
        "print(\"Contents of both_screw_bolt directory:\")\n",
        "print(os.listdir('/content/both_screw_bolt'))\n",
        "\n",
        "print(\"Contents of only_screw directory:\")\n",
        "print(os.listdir('/content/only_screw'))\n"
      ],
      "metadata": {
        "colab": {
          "base_uri": "https://localhost:8080/"
        },
        "id": "GgmKohPswPiZ",
        "outputId": "ed5f9362-4897-416b-ad2c-6fa4289f394e"
      },
      "execution_count": 30,
      "outputs": [
        {
          "output_type": "stream",
          "name": "stdout",
          "text": [
            "Contents of both_screw_bolt directory:\n",
            "['20240713_194621.jpg', '20240713_192951.jpg', '20240713_194316.jpg', '20240713_194206.jpg', '20240713_193839.jpg', '20240713_194256.jpg', '20240713_194200.jpg', '20240713_194630.jpg', '20240713_193650.jpg', '20240713_193907.jpg', '20240713_194606.jpg', '20240713_194232.jpg', '20240713_194541.jpg', '20240713_193135.jpg', '20240713_194551.jpg', '20240713_194215.jpg', '20240713_193659.jpg', '20240713_193831.jpg']\n",
            "Contents of only_screw directory:\n",
            "['img3.jpg', 'img6.jpg', 'img5.jpg', 'img2.jpg', 'img4.jpg', 'img1_43_nosy.jpg', 'img1.jpg']\n"
          ]
        }
      ]
    },
    {
      "cell_type": "code",
      "source": [
        "import cv2\n",
        "import numpy as np\n",
        "import os\n",
        "\n",
        "def process_images(input_dir, output_dir):\n",
        "    if not os.path.exists(output_dir):\n",
        "        os.makedirs(output_dir)\n",
        "\n",
        "    for filename in os.listdir(input_dir):\n",
        "        img_path = os.path.join(input_dir, filename)\n",
        "        img = cv2.imread(img_path, cv2.IMREAD_GRAYSCALE)\n",
        "        _, thresh = cv2.threshold(img, 127, 255, cv2.THRESH_BINARY)\n",
        "        contours, _ = cv2.findContours(thresh, cv2.RETR_EXTERNAL, cv2.CHAIN_APPROX_SIMPLE)\n",
        "\n",
        "        # Draw masks\n",
        "        mask = np.zeros_like(img)\n",
        "        for contour in contours:\n",
        "            cv2.drawContours(mask, [contour], -1, 255, -1)  # Fill the contour with white\n",
        "\n",
        "        # Save the mask image\n",
        "        mask_filename = f'mask_{filename}'\n",
        "        mask_path = os.path.join(output_dir, mask_filename)\n",
        "        cv2.imwrite(mask_path, mask)\n",
        "\n",
        "        print(f'Processed {filename}, saved mask as {mask_filename}')\n",
        "\n",
        "# Paths to your directories\n",
        "input_dir_non_ai = '/content/both_screw_bolt'\n",
        "output_dir_non_ai = '/content/output_non_ai_14_images'\n",
        "process_images(input_dir_non_ai, output_dir_non_ai)\n",
        "\n",
        "input_dir_screw = '/content/only_screw'\n",
        "output_dir_screw = '/content/output_non_ai_6_images'\n",
        "process_images(input_dir_screw, output_dir_screw)\n"
      ],
      "metadata": {
        "colab": {
          "base_uri": "https://localhost:8080/"
        },
        "id": "e_-F5CacxIpS",
        "outputId": "08625bec-5bfa-40d0-aa0d-fa383eabe3bc"
      },
      "execution_count": 31,
      "outputs": [
        {
          "output_type": "stream",
          "name": "stdout",
          "text": [
            "Processed 20240713_194621.jpg, saved mask as mask_20240713_194621.jpg\n",
            "Processed 20240713_192951.jpg, saved mask as mask_20240713_192951.jpg\n",
            "Processed 20240713_194316.jpg, saved mask as mask_20240713_194316.jpg\n",
            "Processed 20240713_194206.jpg, saved mask as mask_20240713_194206.jpg\n",
            "Processed 20240713_193839.jpg, saved mask as mask_20240713_193839.jpg\n",
            "Processed 20240713_194256.jpg, saved mask as mask_20240713_194256.jpg\n",
            "Processed 20240713_194200.jpg, saved mask as mask_20240713_194200.jpg\n",
            "Processed 20240713_194630.jpg, saved mask as mask_20240713_194630.jpg\n",
            "Processed 20240713_193650.jpg, saved mask as mask_20240713_193650.jpg\n",
            "Processed 20240713_193907.jpg, saved mask as mask_20240713_193907.jpg\n",
            "Processed 20240713_194606.jpg, saved mask as mask_20240713_194606.jpg\n",
            "Processed 20240713_194232.jpg, saved mask as mask_20240713_194232.jpg\n",
            "Processed 20240713_194541.jpg, saved mask as mask_20240713_194541.jpg\n",
            "Processed 20240713_193135.jpg, saved mask as mask_20240713_193135.jpg\n",
            "Processed 20240713_194551.jpg, saved mask as mask_20240713_194551.jpg\n",
            "Processed 20240713_194215.jpg, saved mask as mask_20240713_194215.jpg\n",
            "Processed 20240713_193659.jpg, saved mask as mask_20240713_193659.jpg\n",
            "Processed 20240713_193831.jpg, saved mask as mask_20240713_193831.jpg\n",
            "Processed img3.jpg, saved mask as mask_img3.jpg\n",
            "Processed img6.jpg, saved mask as mask_img6.jpg\n",
            "Processed img5.jpg, saved mask as mask_img5.jpg\n",
            "Processed img2.jpg, saved mask as mask_img2.jpg\n",
            "Processed img4.jpg, saved mask as mask_img4.jpg\n",
            "Processed img1_43_nosy.jpg, saved mask as mask_img1_43_nosy.jpg\n",
            "Processed img1.jpg, saved mask as mask_img1.jpg\n"
          ]
        }
      ]
    },
    {
      "cell_type": "code",
      "source": [],
      "metadata": {
        "id": "TTij1aCax1Zn"
      },
      "execution_count": null,
      "outputs": []
    },
    {
      "cell_type": "code",
      "source": [
        "import os\n",
        "\n",
        "# Check files in the current directory\n",
        "print(os.listdir('/content'))\n"
      ],
      "metadata": {
        "colab": {
          "base_uri": "https://localhost:8080/"
        },
        "id": "-f0VkZ1Hxq6i",
        "outputId": "6ce247d9-8bc8-4d25-c2fd-97b046d13907"
      },
      "execution_count": 35,
      "outputs": [
        {
          "output_type": "stream",
          "name": "stdout",
          "text": [
            "['.config', 'Screws_2024_07_15-20240730T115327Z-001 (1).zip', 'ScrewAndBolt_20240713-20240730T115257Z-001.zip', 'output_non_ai_14_images', 'both_screw_bolt', 'Screws_2024_07_15-20240730T115327Z-001.zip', 'only_screw', 'output_non_ai_6_images', 'simple_model.h5', 'ScrewAndBolt_20240713-20240730T115257Z-001 (1).zip', 'sample_data']\n"
          ]
        }
      ]
    },
    {
      "cell_type": "code",
      "source": [
        "model_path = '/content/simple_model.h5'  # Update this path based on your directory structure\n",
        "model = tf.keras.models.load_model(model_path)\n"
      ],
      "metadata": {
        "id": "Tu8VW3fqx3mV"
      },
      "execution_count": 36,
      "outputs": []
    },
    {
      "cell_type": "code",
      "source": [
        "from google.colab import files\n",
        "uploaded = files.upload()\n"
      ],
      "metadata": {
        "colab": {
          "base_uri": "https://localhost:8080/",
          "height": 73
        },
        "id": "25BuYzTXyQCq",
        "outputId": "223ac674-40a3-4afb-a6bc-52aefc9ab0ad"
      },
      "execution_count": 37,
      "outputs": [
        {
          "output_type": "display_data",
          "data": {
            "text/plain": [
              "<IPython.core.display.HTML object>"
            ],
            "text/html": [
              "\n",
              "     <input type=\"file\" id=\"files-3b15ca2c-d6ec-4f6a-9a39-28fa39d79e2b\" name=\"files[]\" multiple disabled\n",
              "        style=\"border:none\" />\n",
              "     <output id=\"result-3b15ca2c-d6ec-4f6a-9a39-28fa39d79e2b\">\n",
              "      Upload widget is only available when the cell has been executed in the\n",
              "      current browser session. Please rerun this cell to enable.\n",
              "      </output>\n",
              "      <script>// Copyright 2017 Google LLC\n",
              "//\n",
              "// Licensed under the Apache License, Version 2.0 (the \"License\");\n",
              "// you may not use this file except in compliance with the License.\n",
              "// You may obtain a copy of the License at\n",
              "//\n",
              "//      http://www.apache.org/licenses/LICENSE-2.0\n",
              "//\n",
              "// Unless required by applicable law or agreed to in writing, software\n",
              "// distributed under the License is distributed on an \"AS IS\" BASIS,\n",
              "// WITHOUT WARRANTIES OR CONDITIONS OF ANY KIND, either express or implied.\n",
              "// See the License for the specific language governing permissions and\n",
              "// limitations under the License.\n",
              "\n",
              "/**\n",
              " * @fileoverview Helpers for google.colab Python module.\n",
              " */\n",
              "(function(scope) {\n",
              "function span(text, styleAttributes = {}) {\n",
              "  const element = document.createElement('span');\n",
              "  element.textContent = text;\n",
              "  for (const key of Object.keys(styleAttributes)) {\n",
              "    element.style[key] = styleAttributes[key];\n",
              "  }\n",
              "  return element;\n",
              "}\n",
              "\n",
              "// Max number of bytes which will be uploaded at a time.\n",
              "const MAX_PAYLOAD_SIZE = 100 * 1024;\n",
              "\n",
              "function _uploadFiles(inputId, outputId) {\n",
              "  const steps = uploadFilesStep(inputId, outputId);\n",
              "  const outputElement = document.getElementById(outputId);\n",
              "  // Cache steps on the outputElement to make it available for the next call\n",
              "  // to uploadFilesContinue from Python.\n",
              "  outputElement.steps = steps;\n",
              "\n",
              "  return _uploadFilesContinue(outputId);\n",
              "}\n",
              "\n",
              "// This is roughly an async generator (not supported in the browser yet),\n",
              "// where there are multiple asynchronous steps and the Python side is going\n",
              "// to poll for completion of each step.\n",
              "// This uses a Promise to block the python side on completion of each step,\n",
              "// then passes the result of the previous step as the input to the next step.\n",
              "function _uploadFilesContinue(outputId) {\n",
              "  const outputElement = document.getElementById(outputId);\n",
              "  const steps = outputElement.steps;\n",
              "\n",
              "  const next = steps.next(outputElement.lastPromiseValue);\n",
              "  return Promise.resolve(next.value.promise).then((value) => {\n",
              "    // Cache the last promise value to make it available to the next\n",
              "    // step of the generator.\n",
              "    outputElement.lastPromiseValue = value;\n",
              "    return next.value.response;\n",
              "  });\n",
              "}\n",
              "\n",
              "/**\n",
              " * Generator function which is called between each async step of the upload\n",
              " * process.\n",
              " * @param {string} inputId Element ID of the input file picker element.\n",
              " * @param {string} outputId Element ID of the output display.\n",
              " * @return {!Iterable<!Object>} Iterable of next steps.\n",
              " */\n",
              "function* uploadFilesStep(inputId, outputId) {\n",
              "  const inputElement = document.getElementById(inputId);\n",
              "  inputElement.disabled = false;\n",
              "\n",
              "  const outputElement = document.getElementById(outputId);\n",
              "  outputElement.innerHTML = '';\n",
              "\n",
              "  const pickedPromise = new Promise((resolve) => {\n",
              "    inputElement.addEventListener('change', (e) => {\n",
              "      resolve(e.target.files);\n",
              "    });\n",
              "  });\n",
              "\n",
              "  const cancel = document.createElement('button');\n",
              "  inputElement.parentElement.appendChild(cancel);\n",
              "  cancel.textContent = 'Cancel upload';\n",
              "  const cancelPromise = new Promise((resolve) => {\n",
              "    cancel.onclick = () => {\n",
              "      resolve(null);\n",
              "    };\n",
              "  });\n",
              "\n",
              "  // Wait for the user to pick the files.\n",
              "  const files = yield {\n",
              "    promise: Promise.race([pickedPromise, cancelPromise]),\n",
              "    response: {\n",
              "      action: 'starting',\n",
              "    }\n",
              "  };\n",
              "\n",
              "  cancel.remove();\n",
              "\n",
              "  // Disable the input element since further picks are not allowed.\n",
              "  inputElement.disabled = true;\n",
              "\n",
              "  if (!files) {\n",
              "    return {\n",
              "      response: {\n",
              "        action: 'complete',\n",
              "      }\n",
              "    };\n",
              "  }\n",
              "\n",
              "  for (const file of files) {\n",
              "    const li = document.createElement('li');\n",
              "    li.append(span(file.name, {fontWeight: 'bold'}));\n",
              "    li.append(span(\n",
              "        `(${file.type || 'n/a'}) - ${file.size} bytes, ` +\n",
              "        `last modified: ${\n",
              "            file.lastModifiedDate ? file.lastModifiedDate.toLocaleDateString() :\n",
              "                                    'n/a'} - `));\n",
              "    const percent = span('0% done');\n",
              "    li.appendChild(percent);\n",
              "\n",
              "    outputElement.appendChild(li);\n",
              "\n",
              "    const fileDataPromise = new Promise((resolve) => {\n",
              "      const reader = new FileReader();\n",
              "      reader.onload = (e) => {\n",
              "        resolve(e.target.result);\n",
              "      };\n",
              "      reader.readAsArrayBuffer(file);\n",
              "    });\n",
              "    // Wait for the data to be ready.\n",
              "    let fileData = yield {\n",
              "      promise: fileDataPromise,\n",
              "      response: {\n",
              "        action: 'continue',\n",
              "      }\n",
              "    };\n",
              "\n",
              "    // Use a chunked sending to avoid message size limits. See b/62115660.\n",
              "    let position = 0;\n",
              "    do {\n",
              "      const length = Math.min(fileData.byteLength - position, MAX_PAYLOAD_SIZE);\n",
              "      const chunk = new Uint8Array(fileData, position, length);\n",
              "      position += length;\n",
              "\n",
              "      const base64 = btoa(String.fromCharCode.apply(null, chunk));\n",
              "      yield {\n",
              "        response: {\n",
              "          action: 'append',\n",
              "          file: file.name,\n",
              "          data: base64,\n",
              "        },\n",
              "      };\n",
              "\n",
              "      let percentDone = fileData.byteLength === 0 ?\n",
              "          100 :\n",
              "          Math.round((position / fileData.byteLength) * 100);\n",
              "      percent.textContent = `${percentDone}% done`;\n",
              "\n",
              "    } while (position < fileData.byteLength);\n",
              "  }\n",
              "\n",
              "  // All done.\n",
              "  yield {\n",
              "    response: {\n",
              "      action: 'complete',\n",
              "    }\n",
              "  };\n",
              "}\n",
              "\n",
              "scope.google = scope.google || {};\n",
              "scope.google.colab = scope.google.colab || {};\n",
              "scope.google.colab._files = {\n",
              "  _uploadFiles,\n",
              "  _uploadFilesContinue,\n",
              "};\n",
              "})(self);\n",
              "</script> "
            ]
          },
          "metadata": {}
        },
        {
          "output_type": "stream",
          "name": "stdout",
          "text": [
            "Saving simple_model.h5 to simple_model (1).h5\n"
          ]
        }
      ]
    },
    {
      "cell_type": "code",
      "source": [
        "print(os.listdir('/content'))\n"
      ],
      "metadata": {
        "colab": {
          "base_uri": "https://localhost:8080/"
        },
        "id": "WFQjLJYv34eJ",
        "outputId": "3ac6d6f3-0ed1-43fc-df1a-31c9ea18e565"
      },
      "execution_count": 47,
      "outputs": [
        {
          "output_type": "stream",
          "name": "stdout",
          "text": [
            "['.config', 'Screws_2024_07_15-20240730T115327Z-001 (1).zip', 'ScrewAndBolt_20240713-20240730T115257Z-001.zip', 'simple_model (1).h5', 'output_non_ai_14_images', 'both_screw_bolt', 'Screws_2024_07_15-20240730T115327Z-001.zip', 'only_screw', 'output_non_ai_6_images', 'simple_model.h5', 'ScrewAndBolt_20240713-20240730T115257Z-001 (1).zip', 'sample_data']\n"
          ]
        }
      ]
    },
    {
      "cell_type": "code",
      "source": [
        "import cv2\n",
        "import numpy as np\n",
        "\n",
        "def detect_and_overlay_masks(model, input_dir, output_dir):\n",
        "    input_width = 150  # Define the width expected by your model\n",
        "    input_height = 150  # Define the height expected by your model\n",
        "\n",
        "    if not os.path.exists(output_dir):\n",
        "        os.makedirs(output_dir)\n",
        "\n",
        "    for filename in os.listdir(input_dir):\n",
        "        img_path = os.path.join(input_dir, filename)\n",
        "        img = cv2.imread(img_path)\n",
        "        img_rgb = cv2.cvtColor(img, cv2.COLOR_BGR2RGB)\n",
        "        img_resized = cv2.resize(img_rgb, (input_width, input_height))  # Resize based on model input size\n",
        "\n",
        "        predictions = model.predict(np.expand_dims(img_resized, axis=0))\n",
        "        label = 'Object detected' if predictions[0] > 0.5 else 'No object detected'\n",
        "\n",
        "        # Overlay label on the original image\n",
        "        cv2.putText(img, label, (10, 30), cv2.FONT_HERSHEY_SIMPLEX, 1, (0, 255, 0), 2)\n",
        "        cv2.imwrite(os.path.join(output_dir, filename), img)\n",
        "        print(f'Processed {filename}, result: {label}')\n"
      ],
      "metadata": {
        "id": "wB4Xryuh6ylK"
      },
      "execution_count": 50,
      "outputs": []
    },
    {
      "cell_type": "code",
      "source": [],
      "metadata": {
        "id": "l68o2xX_7mE6"
      },
      "execution_count": null,
      "outputs": []
    },
    {
      "cell_type": "code",
      "source": [],
      "metadata": {
        "id": "NTud-T1N7moQ"
      },
      "execution_count": null,
      "outputs": []
    }
  ]
}